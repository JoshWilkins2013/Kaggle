{
 "cells": [
  {
   "cell_type": "markdown",
   "metadata": {},
   "source": [
    "# <center> Preprocess </center>\n",
    "<center> Josh Wilkins <br> 10/13/2017 </center>"
   ]
  },
  {
   "cell_type": "code",
   "execution_count": 1,
   "metadata": {
    "code_folding": [
     0
    ]
   },
   "outputs": [],
   "source": [
    "# Imports\n",
    "\n",
    "import pandas as pd\n",
    "import numpy as np\n",
    "import seaborn as sbn\n",
    "from IPython.display import Image\n",
    "import matplotlib.pyplot as plt\n",
    "%matplotlib inline"
   ]
  },
  {
   "cell_type": "code",
   "execution_count": 2,
   "metadata": {
    "code_folding": [
     0
    ]
   },
   "outputs": [],
   "source": [
    "# Collect Some Data (Extra Song Info Grabbed in IRSC Section)\n",
    "\n",
    "df_train = pd.read_csv('Data/train.csv')\n",
    "df_test = pd.read_csv('Data/test.csv')\n",
    "df_songs = pd.read_csv('Data/songs.csv')\n",
    "df_members = pd.read_csv('Data/members.csv')\n",
    "df_logs = pd.read_csv('Data/user_logs.csv')"
   ]
  },
  {
   "cell_type": "markdown",
   "metadata": {},
   "source": [
    "### <center> IRSC Data </center>"
   ]
  },
  {
   "cell_type": "markdown",
   "metadata": {},
   "source": [
    "Notes:\n",
    "- Info is not verified (could be misleading or incorrect)\n",
    "- Multiple songs can share the same IRSC if song is re-published\n",
    "- IRSC split into CC-XXX-YY-NNNNN\n",
    "    - CC is Country Code\n",
    "    - XXX is IRSC Issuer (Record Label Company)\n",
    "    - YY is the year the IRSC was assigned (not necessarily the year it was recorded)\n",
    "    - NNNNN is just a 5 digit id number\n",
    "- yy is changed to yyyy (Split at 18 so data is from 1918 to 2017)"
   ]
  },
  {
   "cell_type": "code",
   "execution_count": 3,
   "metadata": {
    "code_folding": [
     0
    ]
   },
   "outputs": [
    {
     "name": "stdout",
     "output_type": "stream",
     "text": [
      "21.30 percent of IRSCs are duplicates\n",
      "5.95 percent of IRSCs are missing\n"
     ]
    },
    {
     "data": {
      "text/html": [
       "<div>\n",
       "<style>\n",
       "    .dataframe thead tr:only-child th {\n",
       "        text-align: right;\n",
       "    }\n",
       "\n",
       "    .dataframe thead th {\n",
       "        text-align: left;\n",
       "    }\n",
       "\n",
       "    .dataframe tbody tr th {\n",
       "        vertical-align: top;\n",
       "    }\n",
       "</style>\n",
       "<table border=\"1\" class=\"dataframe\">\n",
       "  <thead>\n",
       "    <tr style=\"text-align: right;\">\n",
       "      <th></th>\n",
       "      <th>song_id</th>\n",
       "      <th>name</th>\n",
       "      <th>cc</th>\n",
       "      <th>xxx</th>\n",
       "      <th>yyyy</th>\n",
       "    </tr>\n",
       "  </thead>\n",
       "  <tbody>\n",
       "    <tr>\n",
       "      <th>0</th>\n",
       "      <td>LP7pLJoJFBvyuUwvu+oLzjT+bI+UeBPURCecJsX1jjs=</td>\n",
       "      <td>我們</td>\n",
       "      <td>TW</td>\n",
       "      <td>UM7</td>\n",
       "      <td>2012.0</td>\n",
       "    </tr>\n",
       "    <tr>\n",
       "      <th>1</th>\n",
       "      <td>ClazTFnk6r0Bnuie44bocdNMM3rdlrq0bCGAsGUWcHE=</td>\n",
       "      <td>Let Me Love You</td>\n",
       "      <td>QM</td>\n",
       "      <td>ZSY</td>\n",
       "      <td>2016.0</td>\n",
       "    </tr>\n",
       "    <tr>\n",
       "      <th>2</th>\n",
       "      <td>u2ja/bZE3zhCGxvbbOB3zOoUjx27u40cf5g09UXMoKQ=</td>\n",
       "      <td>原諒我</td>\n",
       "      <td>TW</td>\n",
       "      <td>A53</td>\n",
       "      <td>2008.0</td>\n",
       "    </tr>\n",
       "    <tr>\n",
       "      <th>3</th>\n",
       "      <td>92Fqsy0+p6+RHe2EoLKjHahORHR1Kq1TBJoClW9v+Ts=</td>\n",
       "      <td>Classic</td>\n",
       "      <td>US</td>\n",
       "      <td>SM1</td>\n",
       "      <td>2013.0</td>\n",
       "    </tr>\n",
       "    <tr>\n",
       "      <th>4</th>\n",
       "      <td>0QFmz/+rJy1Q56C1DuYqT9hKKqi5TUqx0sN0IwvoHrw=</td>\n",
       "      <td>愛投羅網</td>\n",
       "      <td>TW</td>\n",
       "      <td>A47</td>\n",
       "      <td>2013.0</td>\n",
       "    </tr>\n",
       "  </tbody>\n",
       "</table>\n",
       "</div>"
      ],
      "text/plain": [
       "                                        song_id             name  cc  xxx  \\\n",
       "0  LP7pLJoJFBvyuUwvu+oLzjT+bI+UeBPURCecJsX1jjs=               我們  TW  UM7   \n",
       "1  ClazTFnk6r0Bnuie44bocdNMM3rdlrq0bCGAsGUWcHE=  Let Me Love You  QM  ZSY   \n",
       "2  u2ja/bZE3zhCGxvbbOB3zOoUjx27u40cf5g09UXMoKQ=              原諒我  TW  A53   \n",
       "3  92Fqsy0+p6+RHe2EoLKjHahORHR1Kq1TBJoClW9v+Ts=          Classic  US  SM1   \n",
       "4  0QFmz/+rJy1Q56C1DuYqT9hKKqi5TUqx0sN0IwvoHrw=             愛投羅網  TW  A47   \n",
       "\n",
       "     yyyy  \n",
       "0  2012.0  \n",
       "1  2016.0  \n",
       "2  2008.0  \n",
       "3  2013.0  \n",
       "4  2013.0  "
      ]
     },
     "execution_count": 3,
     "metadata": {},
     "output_type": "execute_result"
    }
   ],
   "source": [
    "# Spliting IRSC Data into CC-XXX-YY (Removed Name and IRSC Cols)\n",
    "\n",
    "df_songs_extra = pd.read_csv('Data/song_extra_info.csv')\n",
    "print \"%.2f percent of IRSCs are duplicates\" % (100 - float(100*len(df_songs_extra.isrc.unique())) / float(len(df_songs_extra.isrc)))\n",
    "print \"%.2f percent of IRSCs are missing\" % (100 * float(df_songs_extra.isrc.isnull().sum()) / float(len(df_songs_extra.song_id)))\n",
    "\n",
    "x = pd.Series(df_songs_extra.isrc.values)\n",
    "df_songs_extra['cc'] = x.str.slice(0,2)\n",
    "df_songs_extra['xxx'] = x.str.slice(2,5)\n",
    "df_songs_extra['yy'] = x.str.slice(5,7).astype(float)\n",
    "del df_songs_extra['isrc']\n",
    "\n",
    "df_songs_extra['yy'] = df_songs_extra['yy'].astype(float)\n",
    "df_songs_extra.loc[df_songs_extra['yy'] > 17, 'yy'] += 1900\n",
    "df_songs_extra.loc[df_songs_extra['yy'] < 18, 'yy'] += 2000\n",
    "df_songs_extra.rename(columns={'yy': 'yyyy'}, inplace=True)\n",
    "\n",
    "df_songs_extra.head()"
   ]
  },
  {
   "cell_type": "markdown",
   "metadata": {},
   "source": [
    "### <center> Membership Length </center>"
   ]
  },
  {
   "cell_type": "markdown",
   "metadata": {},
   "source": [
    "Notes:\n",
    "- Created new col days = exp_date - reg_time\n",
    "- Removed exp_date and reg_time (Data encapsulated in days)\n",
    "    - As Jian Yang points out in the comments here: https://www.kaggle.com/juanumusic/days-instead-of-dates-lgbm-0-66870 <br>\n",
    "      Days and reg_time are highly correlated since the exp_dates are very similar"
   ]
  },
  {
   "cell_type": "code",
   "execution_count": 4,
   "metadata": {
    "code_folding": [
     0
    ]
   },
   "outputs": [],
   "source": [
    "# Creating new Feature Column: days = mebership length\n",
    "\n",
    "# Date-time objects for date manipulation\n",
    "df_members['registration_init_time'] = pd.to_datetime(df_members['registration_init_time'],format=\"%Y%m%d\")\n",
    "df_members['expiration_date'] = pd.to_datetime(df_members['expiration_date'],format=\"%Y%m%d\")\n",
    "\n",
    "# Creating the new feature column\n",
    "df_members['days'] = (df_members.expiration_date - df_members.registration_init_time).dt.days.astype(int)\n",
    "\n",
    "# Removing reg_time and exp_data feature cols\n",
    "del df_members['registration_init_time']\n",
    "del df_members['expiration_date']"
   ]
  },
  {
   "cell_type": "markdown",
   "metadata": {},
   "source": [
    "### <center> Adding Features: Count by Seperations (|) in Data </center>"
   ]
  },
  {
   "cell_type": "markdown",
   "metadata": {},
   "source": [
    "These include:\n",
    "- Lyricist\n",
    "- Genre Ids\n",
    "- Composer"
   ]
  },
  {
   "cell_type": "code",
   "execution_count": 5,
   "metadata": {
    "code_folding": [
     0
    ]
   },
   "outputs": [],
   "source": [
    "# Adding Counts of | Separarted Fields\n",
    "cols = ['genre_ids', 'lyricist', 'composer']\n",
    "for col in cols:\n",
    "    tmp_array = []\n",
    "    df_songs[col] = df_songs[col].fillna('NA')\n",
    "    for row in df_songs[col]:\n",
    "        tmp_array.append(len(row.split('|')))\n",
    "    df_songs[col + '_count'] = tmp_array"
   ]
  },
  {
   "cell_type": "markdown",
   "metadata": {},
   "source": [
    "### <center> Removing Features </center>"
   ]
  },
  {
   "cell_type": "markdown",
   "metadata": {},
   "source": [
    "Reasons for removing gender column:\n",
    "- Over 40% of the data is missing\n",
    "- Data shows that user is not more likely to repeat song if male or female"
   ]
  },
  {
   "cell_type": "code",
   "execution_count": 6,
   "metadata": {
    "code_folding": [
     0
    ]
   },
   "outputs": [
    {
     "name": "stdout",
     "output_type": "stream",
     "text": [
      "57.85% of gender data missing\n"
     ]
    },
    {
     "data": {
      "image/png": "[encoded data removed]",
      "text/plain": [
       "<IPython.core.display.Image object>"
      ]
     },
     "execution_count": 6,
     "metadata": {
      "image/png": {
       "width": 400
      }
     },
     "output_type": "execute_result"
    }
   ],
   "source": [
    "# Gender Data\n",
    "missingGenderData = 100 * float(df_members.gender.isnull().sum()) / len(df_members.msno)\n",
    "print \"%.2f%% of gender data missing\" % missingGenderData\n",
    "\n",
    "Image(filename='./Images/Target_By_Gender.png', width=400) "
   ]
  },
  {
   "cell_type": "markdown",
   "metadata": {},
   "source": [
    "Lyricist data removed because 43% of its data is missing (48% missing in test data) <br>\n",
    "Song_name removed because it contains the same content as song_id\n",
    "- Although if using public data song name might become useful"
   ]
  },
  {
   "cell_type": "code",
   "execution_count": 7,
   "metadata": {
    "code_folding": [
     0
    ]
   },
   "outputs": [],
   "source": [
    "# Removig Features\n",
    "\n",
    "del df_logs['date']\n",
    "del df_logs['num_75']\n",
    "del df_logs['num_unq']\n",
    "del df_members['gender']\n",
    "del df_members['registered_via']\n",
    "del df_songs['lyricist']\n",
    "del df_songs_extra['name']"
   ]
  },
  {
   "cell_type": "markdown",
   "metadata": {},
   "source": [
    "### <center> User Logs </center>"
   ]
  },
  {
   "cell_type": "code",
   "execution_count": 8,
   "metadata": {
    "code_folding": [
     0
    ]
   },
   "outputs": [],
   "source": [
    "# Summing User Log Data\n",
    "\n",
    "counts = df_logs.groupby('msno')['total_secs'].count().reset_index()\n",
    "counts.columns = ['msno', 'days_listened']\n",
    "sums = df_logs.groupby('msno').sum().reset_index()\n",
    "del df_logs\n",
    "df_logs = sums.merge(counts, how='inner', on='msno')"
   ]
  },
  {
   "cell_type": "code",
   "execution_count": 9,
   "metadata": {
    "code_folding": [
     0
    ]
   },
   "outputs": [],
   "source": [
    "# Normalizing and Standardizing Data\n",
    "from sklearn.preprocessing import StandardScaler\n",
    "\n",
    "df_logs = df_logs[df_logs['total_secs'] >= 0]\n",
    "\n",
    "cols = df_logs.columns.values[1:]\n",
    "df_logs[cols] = np.log1p(df_logs[cols])\n",
    "\n",
    "ss = StandardScaler()\n",
    "df_logs[cols] = ss.fit_transform(df_logs[cols])"
   ]
  },
  {
   "cell_type": "markdown",
   "metadata": {},
   "source": [
    "### <center> Removing Outliers </center>"
   ]
  },
  {
   "cell_type": "markdown",
   "metadata": {},
   "source": [
    "Notes:\n",
    "- Some Expiration_Dates in 1970 (Removed rows)\n",
    "- Removed ages < 0 and > 95\n",
    "    - Note about 40% of the ages == 0 -- why??\n",
    "- Removed absurd song lengths (1 sec to 3 hrs)\n",
    "    - 3hr ones due to 'meditative' songs (kept in data)\n",
    "    - Short songs removed"
   ]
  },
  {
   "cell_type": "code",
   "execution_count": 13,
   "metadata": {
    "code_folding": []
   },
   "outputs": [],
   "source": [
    "# Removing Outliers\n",
    "\n",
    "df_songs.language.dropna(inplace=True)  # Removing that one song without a language\n",
    "    \n",
    "# Replace Ages<=0 with the average age\n",
    "# mean_age = df_members[df_members['bd'] > 0]['bd'].mean()\n",
    "# df_members[df_members.bd <= 0] = np.round(mean_age)\n",
    "\n",
    "df_members = df_members[df_members.days > 0] # Remove the 3 rows with 1970 exp_dates\n",
    "# df_members = df_members[(df_members.bd > -1) & (df_members.bd < 95)]  # Remove the ages that don't make sense\n",
    "\n",
    "df_songs = df_songs[df_songs['song_length'] > (30000)]"
   ]
  },
  {
   "cell_type": "markdown",
   "metadata": {},
   "source": [
    "### <center> Merging Data </center>"
   ]
  },
  {
   "cell_type": "markdown",
   "metadata": {},
   "source": [
    "Notes:\n",
    "- 349 extra rows in the songs file\n",
    "- 549 not common to both"
   ]
  },
  {
   "cell_type": "code",
   "execution_count": 14,
   "metadata": {
    "code_folding": [
     0
    ]
   },
   "outputs": [
    {
     "name": "stdout",
     "output_type": "stream",
     "text": [
      "(2286890, 9) - Shape of songs.csv\n",
      "(2295971, 4) - Shape of song_extra_info.csv\n",
      "(2296862, 12) - Shape of merged files\n"
     ]
    }
   ],
   "source": [
    "# Merging Data: Songs with Song_Extra_Info\n",
    "\n",
    "print str(np.shape(df_songs)) + \" - Shape of songs.csv\"\n",
    "print str(np.shape(df_songs_extra)) + \" - Shape of song_extra_info.csv\"\n",
    "songs = df_songs.merge(df_songs_extra, how='outer', on='song_id')\n",
    "print str(np.shape(songs)) + \" - Shape of merged files\""
   ]
  },
  {
   "cell_type": "markdown",
   "metadata": {},
   "source": [
    "By choosing the outer method, I am keeping the songs that are not common to both files"
   ]
  },
  {
   "cell_type": "markdown",
   "metadata": {},
   "source": [
    "Notes:\n",
    "- Every member is unique in members.csv\n",
    "- Every member present in the concatenation of train and test\n",
    "    - Not all members present in training data\n",
    "    - Not all members present in test data\n",
    "- The following merge adds member info to every member-song combo\n",
    "- Also means that a small set of member info is not used in training set"
   ]
  },
  {
   "cell_type": "code",
   "execution_count": 15,
   "metadata": {
    "code_folding": [
     0
    ]
   },
   "outputs": [],
   "source": [
    "# Merging members with user logs\n",
    "\n",
    "df_members = df_members.merge(df_logs, how='right', on='msno')"
   ]
  },
  {
   "cell_type": "markdown",
   "metadata": {},
   "source": [
    "### <center> Merging Training Data </center>"
   ]
  },
  {
   "cell_type": "code",
   "execution_count": 16,
   "metadata": {
    "code_folding": [
     0
    ]
   },
   "outputs": [],
   "source": [
    "# Merging Training Set with Members Data\n",
    "\n",
    "df = df_train.merge(df_members, how='left', on='msno')"
   ]
  },
  {
   "cell_type": "markdown",
   "metadata": {},
   "source": [
    "Notes:\n",
    "- The following merge adds song info to every member-song combo\n",
    "- Not all songs present in training data\n",
    "- Not all songs present in test data"
   ]
  },
  {
   "cell_type": "code",
   "execution_count": 17,
   "metadata": {
    "code_folding": [
     0
    ],
    "scrolled": true
   },
   "outputs": [],
   "source": [
    "# Merging Training Set with Song Data\n",
    "\n",
    "train = df.merge(songs, how='left', on='song_id')"
   ]
  },
  {
   "cell_type": "markdown",
   "metadata": {},
   "source": [
    "### <center> Merging Test Data </center>"
   ]
  },
  {
   "cell_type": "code",
   "execution_count": 18,
   "metadata": {
    "code_folding": [
     0
    ]
   },
   "outputs": [],
   "source": [
    "# Merging Test Set with Members Data\n",
    "\n",
    "df = df_test.merge(df_members, how='left', on='msno')"
   ]
  },
  {
   "cell_type": "code",
   "execution_count": 19,
   "metadata": {
    "code_folding": [
     0
    ]
   },
   "outputs": [],
   "source": [
    "# Merging Test Set with Song Data\n",
    "\n",
    "test = df.merge(songs, how='left', on='song_id')"
   ]
  },
  {
   "cell_type": "markdown",
   "metadata": {},
   "source": [
    "### <center> Adding Features </center>"
   ]
  },
  {
   "cell_type": "markdown",
   "metadata": {},
   "source": [
    "- Consider adding ratio of unique_listen_count / listen_count (Removes redundant data)"
   ]
  },
  {
   "cell_type": "code",
   "execution_count": 20,
   "metadata": {
    "code_folding": [
     0
    ]
   },
   "outputs": [],
   "source": [
    "# Seperated Play Count\n",
    "arr = train.song_id.value_counts()\n",
    "pc = pd.DataFrame(data=[arr.index, arr.values]).T\n",
    "pc.columns = ['song_id', 'play_count']\n",
    "train = train.merge(pc, how='left', on='song_id')\n",
    "\n",
    "arr = test.song_id.value_counts()\n",
    "pc = pd.DataFrame(data=[arr.index, arr.values]).T\n",
    "pc.columns = ['song_id', 'play_count']\n",
    "test = test.merge(pc, how='left', on='song_id')"
   ]
  },
  {
   "cell_type": "markdown",
   "metadata": {},
   "source": [
    "### <center> Formatted Data Frames to .csv Files </center>"
   ]
  },
  {
   "cell_type": "code",
   "execution_count": 21,
   "metadata": {
    "code_folding": [
     0
    ]
   },
   "outputs": [],
   "source": [
    "# Formatted data to .csv\n",
    "train.to_csv('Data/TrainFormatted.csv', index=False)\n",
    "test.to_csv('Data/TestFormatted.csv', index=False)"
   ]
  }
 ],
 "metadata": {
  "hide_input": false,
  "kernelspec": {
   "display_name": "Python 2",
   "language": "python",
   "name": "python2"
  },
  "language_info": {
   "codemirror_mode": {
    "name": "ipython",
    "version": 2
   },
   "file_extension": ".py",
   "mimetype": "text/x-python",
   "name": "python",
   "nbconvert_exporter": "python",
   "pygments_lexer": "ipython2",
   "version": "2.7.14"
  },
  "toc": {
   "nav_menu": {},
   "number_sections": false,
   "sideBar": true,
   "skip_h1_title": true,
   "title_cell": "Table of Contents",
   "title_sidebar": "Contents",
   "toc_cell": false,
   "toc_position": {},
   "toc_section_display": true,
   "toc_window_display": false
  },
  "varInspector": {
   "cols": {
    "lenName": 16,
    "lenType": 16,
    "lenVar": 40
   },
   "kernels_config": {
    "python": {
     "delete_cmd_postfix": "",
     "delete_cmd_prefix": "del ",
     "library": "var_list.py",
     "varRefreshCmd": "print(var_dic_list())"
    },
    "r": {
     "delete_cmd_postfix": ") ",
     "delete_cmd_prefix": "rm(",
     "library": "var_list.r",
     "varRefreshCmd": "cat(var_dic_list()) "
    }
   },
   "types_to_exclude": [
    "module",
    "function",
    "builtin_function_or_method",
    "instance",
    "_Feature"
   ],
   "window_display": false
  }
 },
 "nbformat": 4,
 "nbformat_minor": 2
}
